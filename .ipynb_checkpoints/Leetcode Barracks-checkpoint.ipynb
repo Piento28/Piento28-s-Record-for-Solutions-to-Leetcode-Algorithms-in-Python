{
 "cells": [
  {
   "cell_type": "code",
   "execution_count": 169,
   "metadata": {},
   "outputs": [],
   "source": [
    "class Solution:\n",
    "    def BinarySearch(self, a, i,j,target):\n",
    "        while i<j:\n",
    "            mid = (i+j)//2\n",
    "#             print(mid)\n",
    "            if a[mid]>target:\n",
    "                j=mid\n",
    "            elif a[mid]<target:\n",
    "                i=mid+1\n",
    "            elif a[mid]==target:\n",
    "                return mid\n",
    "        return j\n",
    "    def lengthOfLIS(self, nums) -> int:\n",
    "        if not nums:\n",
    "            return 0\n",
    "        tail = [0 for i in range(len(nums)+1)]\n",
    "        tail[1] = nums[0]\n",
    "        size = 1\n",
    "        for i in range(1,len(nums)):\n",
    "#             print(tail)\n",
    "            if nums[i]>tail[size]:\n",
    "                size+=1\n",
    "                tail[size]=nums[i]\n",
    "            elif nums[i]<tail[size]:\n",
    "                insert = self.BinarySearch(tail,1,size,nums[i])\n",
    "#                 print(insert)\n",
    "                tail[insert]=nums[i]\n",
    "#         print(tail)\n",
    "        return size"
   ]
  },
  {
   "cell_type": "code",
   "execution_count": 170,
   "metadata": {},
   "outputs": [
    {
     "name": "stdout",
     "output_type": "stream",
     "text": [
      "1\n",
      "1\n",
      "2\n",
      "4\n",
      "4\n",
      "1\n",
      "1\n",
      "2\n",
      "3\n"
     ]
    }
   ],
   "source": [
    "test=Solution()\n",
    "print(test.lengthOfLIS([10,9,2,5,3,7,101,18]))\n",
    "print(test.lengthOfLIS([4,10,4,3,8,9]))"
   ]
  },
  {
   "cell_type": "code",
   "execution_count": null,
   "metadata": {},
   "outputs": [],
   "source": []
  }
 ],
 "metadata": {
  "kernelspec": {
   "display_name": "Python 3",
   "language": "python",
   "name": "python3"
  },
  "language_info": {
   "codemirror_mode": {
    "name": "ipython",
    "version": 3
   },
   "file_extension": ".py",
   "mimetype": "text/x-python",
   "name": "python",
   "nbconvert_exporter": "python",
   "pygments_lexer": "ipython3",
   "version": "3.7.1"
  }
 },
 "nbformat": 4,
 "nbformat_minor": 2
}
