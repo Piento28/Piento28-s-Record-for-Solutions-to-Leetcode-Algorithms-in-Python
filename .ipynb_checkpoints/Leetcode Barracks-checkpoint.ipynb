{
 "cells": [
  {
   "cell_type": "code",
   "execution_count": 129,
   "metadata": {},
   "outputs": [],
   "source": [
    "class Solution:\n",
    "    def subarraySum(self, nums, k):\n",
    "        dic={}\n",
    "        dic[0]=1\n",
    "        cum_sum=0\n",
    "        answer=0\n",
    "        for i in range(len(nums)):\n",
    "            cum_sum+=nums[i]\n",
    "            tmp=cum_sum-k\n",
    "            if (tmp in dic):\n",
    "                answer+=dic[tmp]\n",
    "            if cum_sum in dic:\n",
    "                dic[cum_sum]+=1\n",
    "            else:\n",
    "                dic[cum_sum]=1\n",
    "        return answer"
   ]
  },
  {
   "cell_type": "code",
   "execution_count": 130,
   "metadata": {},
   "outputs": [
    {
     "name": "stdout",
     "output_type": "stream",
     "text": [
      "3\n"
     ]
    }
   ],
   "source": [
    "test = Solution()\n",
    "print(test.subarraySum([1,1,1],1))"
   ]
  },
  {
   "cell_type": "code",
   "execution_count": null,
   "metadata": {},
   "outputs": [],
   "source": []
  }
 ],
 "metadata": {
  "kernelspec": {
   "display_name": "Python 3",
   "language": "python",
   "name": "python3"
  },
  "language_info": {
   "codemirror_mode": {
    "name": "ipython",
    "version": 3
   },
   "file_extension": ".py",
   "mimetype": "text/x-python",
   "name": "python",
   "nbconvert_exporter": "python",
   "pygments_lexer": "ipython3",
   "version": "3.7.1"
  }
 },
 "nbformat": 4,
 "nbformat_minor": 2
}
