{
 "cells": [
  {
   "cell_type": "code",
   "execution_count": 96,
   "metadata": {},
   "outputs": [],
   "source": [
    "# class Solution:\n",
    "#     def maximalRectangle(self, matrix):\n",
    "#         height = len(matrix)\n",
    "#         if height==0:\n",
    "#             return 0\n",
    "#         width = len(matrix[0])\n",
    "#         if width==0:\n",
    "#             return 0\n",
    "# #         print(height,width)\n",
    "#         state = [[0 for i in range(width)] for i in range(height)]\n",
    "#         left = [[0 for i in range(width)] for i in range(height)]\n",
    "# #         print(left)\n",
    "#         for i in range(height):\n",
    "#             start=0;end=0;\n",
    "# #             left[i][end]=0;\n",
    "#             while end<width:\n",
    "#                 if matrix[i][end]=='1':\n",
    "#                     left[i][end]=start\n",
    "#                     end+=1\n",
    "#                 else:\n",
    "#                     left[i][end]=0\n",
    "#                     start=end+1\n",
    "#                     end+=1\n",
    "# #         print(left)\n",
    "#         if matrix[0][0]=='1':\n",
    "#             state[0][0] = 1\n",
    "#         for i in range(1,width):\n",
    "#             if matrix[0][i]=='1':\n",
    "#                 state[0][i]=state[0][i-1]+1\n",
    "# #         print(state)\n",
    "#         for i in range(1,height):"
   ]
  },
  {
   "cell_type": "code",
   "execution_count": 141,
   "metadata": {},
   "outputs": [],
   "source": [
    "class Solution:\n",
    "    def largestRectangleArea(self, heights):\n",
    "        if not heights:\n",
    "            return 0\n",
    "        heights.append(0)\n",
    "        stack = []\n",
    "        count_max = 0\n",
    "        i = 0\n",
    "        while i<len(heights):\n",
    "            if (not stack) or heights[stack[-1]]<=heights[i]:\n",
    "                stack.append(i)\n",
    "                i+=1\n",
    "            else:\n",
    "                index = stack.pop(-1)\n",
    "                if not stack:\n",
    "                    length=i\n",
    "                else:\n",
    "                    length=i-stack[-1]-1\n",
    "                count_max = max(count_max,heights[index]*length)\n",
    "        return count_max"
   ]
  },
  {
   "cell_type": "code",
   "execution_count": 143,
   "metadata": {},
   "outputs": [
    {
     "name": "stdout",
     "output_type": "stream",
     "text": [
      "10\n",
      "0\n",
      "10\n",
      "3\n"
     ]
    }
   ],
   "source": [
    "# test=Solution()\n",
    "# print(test.maximalRectangle([\n",
    "#   [\"1\",\"0\",\"1\",\"0\",\"0\"],\n",
    "#   [\"1\",\"0\",\"1\",\"1\",\"1\"],\n",
    "#   [\"1\",\"1\",\"1\",\"1\",\"1\"],\n",
    "#   [\"1\",\"0\",\"0\",\"1\",\"0\"]\n",
    "# ]))\n",
    "test=Solution()\n",
    "print(test.largestRectangleArea([2,1,5,6,2,3]))\n",
    "print(test.largestRectangleArea([0]))\n",
    "print(test.largestRectangleArea([2,4,4,2,2]))\n",
    "print(test.largestRectangleArea([2,1,2]))"
   ]
  },
  {
   "cell_type": "code",
   "execution_count": null,
   "metadata": {},
   "outputs": [],
   "source": []
  }
 ],
 "metadata": {
  "kernelspec": {
   "display_name": "Python 3",
   "language": "python",
   "name": "python3"
  },
  "language_info": {
   "codemirror_mode": {
    "name": "ipython",
    "version": 3
   },
   "file_extension": ".py",
   "mimetype": "text/x-python",
   "name": "python",
   "nbconvert_exporter": "python",
   "pygments_lexer": "ipython3",
   "version": "3.7.1"
  }
 },
 "nbformat": 4,
 "nbformat_minor": 2
}
