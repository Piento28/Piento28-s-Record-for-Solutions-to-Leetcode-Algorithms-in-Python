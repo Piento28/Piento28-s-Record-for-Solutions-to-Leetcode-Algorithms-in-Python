{
 "cells": [
  {
   "cell_type": "code",
   "execution_count": 52,
   "metadata": {},
   "outputs": [
    {
     "ename": "SyntaxError",
     "evalue": "invalid syntax (<ipython-input-52-442cdca44657>, line 13)",
     "output_type": "error",
     "traceback": [
      "\u001b[0;36m  File \u001b[0;32m\"<ipython-input-52-442cdca44657>\"\u001b[0;36m, line \u001b[0;32m13\u001b[0m\n\u001b[0;31m    if string[p2] in dic and if dic[string[p2]]>=p1:\u001b[0m\n\u001b[0m                              ^\u001b[0m\n\u001b[0;31mSyntaxError\u001b[0m\u001b[0;31m:\u001b[0m invalid syntax\n"
     ]
    }
   ],
   "source": [
    "class Solution:\n",
    "    def lengthOfLongestSubstring(self, s: str) -> int:\n",
    "        p1=0\n",
    "        p2=0\n",
    "        dic = {}\n",
    "        string = list(s)\n",
    "        if len(string)<=1:\n",
    "            return len(string)\n",
    "        dic[string[0]]=0\n",
    "        count_max=0\n",
    "        while p2<len(string)-1:\n",
    "            p2+=1\n",
    "            if string[p2] in dic and dic[string[p2]]>=p1:\n",
    "                p1=dic[string[p2]]+1\n",
    "                dic[string[p2]]=p2\n",
    "            else:\n",
    "                dic[string[p2]]=p2\n",
    "            count_max = max(count_max,p2-p1+1)\n",
    "        return count_max"
   ]
  },
  {
   "cell_type": "code",
   "execution_count": 53,
   "metadata": {},
   "outputs": [
    {
     "name": "stdout",
     "output_type": "stream",
     "text": [
      "3\n",
      "3\n",
      "1\n",
      "3\n"
     ]
    }
   ],
   "source": [
    "test=Solution()\n",
    "print(test.lengthOfLongestSubstring(\"abcabcbb\"))\n",
    "print(test.lengthOfLongestSubstring(\"abcabcbab\"))\n",
    "print(test.lengthOfLongestSubstring(\"bbbbb\"))\n",
    "print(test.lengthOfLongestSubstring(\"pwwkew\"))"
   ]
  },
  {
   "cell_type": "code",
   "execution_count": null,
   "metadata": {},
   "outputs": [],
   "source": []
  }
 ],
 "metadata": {
  "kernelspec": {
   "display_name": "Python 3",
   "language": "python",
   "name": "python3"
  },
  "language_info": {
   "codemirror_mode": {
    "name": "ipython",
    "version": 3
   },
   "file_extension": ".py",
   "mimetype": "text/x-python",
   "name": "python",
   "nbconvert_exporter": "python",
   "pygments_lexer": "ipython3",
   "version": "3.7.1"
  }
 },
 "nbformat": 4,
 "nbformat_minor": 2
}
