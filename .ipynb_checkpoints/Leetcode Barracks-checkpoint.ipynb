{
 "cells": [
  {
   "cell_type": "code",
   "execution_count": 98,
   "metadata": {},
   "outputs": [],
   "source": [
    "# Definition for singly-linked list.\n",
    "class ListNode:\n",
    "    def __init__(self, x):\n",
    "        self.val = x\n",
    "        self.next = None\n",
    "\n",
    "class Solution:\n",
    "    def buildLink(self, lis):\n",
    "        if len(lis)==0:\n",
    "            return None\n",
    "        head = ListNode(lis[0])\n",
    "        target = head\n",
    "        for i in range(1,len(lis)):\n",
    "            newnode = ListNode(lis[i])\n",
    "            target.next = newnode\n",
    "            target = target.next\n",
    "        return head\n",
    "    def reverseKGroup(self, head: ListNode, k: int) -> ListNode:\n",
    "        list_len=0\n",
    "        tmp=head\n",
    "        while tmp:\n",
    "            list_len+=1\n",
    "            tmp=tmp.next\n",
    "        if list_len<=1 or k==1 or k>list_len:\n",
    "            return head\n",
    "        pre_head=pre_tail=None\n",
    "        now_head=now_tail=None\n",
    "        all_head=None\n",
    "        i=0\n",
    "        first=None\n",
    "        second=head\n",
    "        third=head.next\n",
    "        while i<(list_len-list_len%k):\n",
    "            now_head=second\n",
    "            for j in range(k-1):\n",
    "                second.next=first\n",
    "                first=second\n",
    "                second=third\n",
    "                third=third.next\n",
    "            second.next=first\n",
    "            now_tail=second\n",
    "            if i==0:\n",
    "                all_head=now_tail\n",
    "            else:\n",
    "#                 print(pre_head.val)\n",
    "                pre_head.next=now_tail\n",
    "            i+=k-1\n",
    "            if i+1<(list_len-list_len%k):\n",
    "                i+=1\n",
    "#                 print(i)\n",
    "                first=None\n",
    "                second=third\n",
    "                third=third.next\n",
    "                pre_head=now_head\n",
    "                pre_tail=now_tail\n",
    "            else:\n",
    "                break\n",
    "        if third==None:\n",
    "            return all_head\n",
    "        else:\n",
    "            now_head.next=third\n",
    "            return all_head"
   ]
  },
  {
   "cell_type": "code",
   "execution_count": 101,
   "metadata": {},
   "outputs": [
    {
     "ename": "AttributeError",
     "evalue": "'NoneType' object has no attribute 'next'",
     "output_type": "error",
     "traceback": [
      "\u001b[0;31m---------------------------------------------------------------------------\u001b[0m",
      "\u001b[0;31mAttributeError\u001b[0m                            Traceback (most recent call last)",
      "\u001b[0;32m<ipython-input-101-305f7684a375>\u001b[0m in \u001b[0;36m<module>\u001b[0;34m\u001b[0m\n\u001b[1;32m      2\u001b[0m \u001b[0;31m# print(test.buildLink([1,2,3,4,5]))\u001b[0m\u001b[0;34m\u001b[0m\u001b[0;34m\u001b[0m\u001b[0;34m\u001b[0m\u001b[0m\n\u001b[1;32m      3\u001b[0m \u001b[0manswer\u001b[0m \u001b[0;34m=\u001b[0m \u001b[0mtest\u001b[0m\u001b[0;34m.\u001b[0m\u001b[0mreverseKGroup\u001b[0m\u001b[0;34m(\u001b[0m\u001b[0mtest\u001b[0m\u001b[0;34m.\u001b[0m\u001b[0mbuildLink\u001b[0m\u001b[0;34m(\u001b[0m\u001b[0;34m[\u001b[0m\u001b[0;36m1\u001b[0m\u001b[0;34m,\u001b[0m\u001b[0;36m2\u001b[0m\u001b[0;34m,\u001b[0m\u001b[0;36m3\u001b[0m\u001b[0;34m,\u001b[0m\u001b[0;36m4\u001b[0m\u001b[0;34m,\u001b[0m\u001b[0;36m5\u001b[0m\u001b[0;34m]\u001b[0m\u001b[0;34m)\u001b[0m\u001b[0;34m,\u001b[0m\u001b[0;36m3\u001b[0m\u001b[0;34m)\u001b[0m\u001b[0;34m\u001b[0m\u001b[0;34m\u001b[0m\u001b[0m\n\u001b[0;32m----> 4\u001b[0;31m \u001b[0manswer\u001b[0m \u001b[0;34m=\u001b[0m \u001b[0mtest\u001b[0m\u001b[0;34m.\u001b[0m\u001b[0mreverseKGroup\u001b[0m\u001b[0;34m(\u001b[0m\u001b[0mtest\u001b[0m\u001b[0;34m.\u001b[0m\u001b[0mbuildLink\u001b[0m\u001b[0;34m(\u001b[0m\u001b[0;34m[\u001b[0m\u001b[0;36m1\u001b[0m\u001b[0;34m,\u001b[0m\u001b[0;36m2\u001b[0m\u001b[0;34m]\u001b[0m\u001b[0;34m)\u001b[0m\u001b[0;34m,\u001b[0m\u001b[0;36m3\u001b[0m\u001b[0;34m)\u001b[0m\u001b[0;34m\u001b[0m\u001b[0;34m\u001b[0m\u001b[0m\n\u001b[0m\u001b[1;32m      5\u001b[0m \u001b[0;34m\u001b[0m\u001b[0m\n\u001b[1;32m      6\u001b[0m \u001b[0;34m\u001b[0m\u001b[0m\n",
      "\u001b[0;32m<ipython-input-98-dd3ff8e1f2aa>\u001b[0m in \u001b[0;36mreverseKGroup\u001b[0;34m(self, head, k)\u001b[0m\n\u001b[1;32m     59\u001b[0m             \u001b[0;32mreturn\u001b[0m \u001b[0mall_head\u001b[0m\u001b[0;34m\u001b[0m\u001b[0;34m\u001b[0m\u001b[0m\n\u001b[1;32m     60\u001b[0m         \u001b[0;32melse\u001b[0m\u001b[0;34m:\u001b[0m\u001b[0;34m\u001b[0m\u001b[0;34m\u001b[0m\u001b[0m\n\u001b[0;32m---> 61\u001b[0;31m             \u001b[0mnow_head\u001b[0m\u001b[0;34m.\u001b[0m\u001b[0mnext\u001b[0m\u001b[0;34m=\u001b[0m\u001b[0mthird\u001b[0m\u001b[0;34m\u001b[0m\u001b[0;34m\u001b[0m\u001b[0m\n\u001b[0m\u001b[1;32m     62\u001b[0m             \u001b[0;32mreturn\u001b[0m \u001b[0mall_head\u001b[0m\u001b[0;34m\u001b[0m\u001b[0;34m\u001b[0m\u001b[0m\n",
      "\u001b[0;31mAttributeError\u001b[0m: 'NoneType' object has no attribute 'next'"
     ]
    }
   ],
   "source": [
    "test = Solution()\n",
    "# print(test.buildLink([1,2,3,4,5]))\n",
    "answer = test.reverseKGroup(test.buildLink([1,2,3,4,5]),3)\n",
    "answer = test.reverseKGroup(test.buildLink([1,2]),3)\n",
    "\n",
    "\n",
    "while answer:\n",
    "    print(answer.val,end=\",\")\n",
    "    answer=answer.next"
   ]
  },
  {
   "cell_type": "code",
   "execution_count": null,
   "metadata": {},
   "outputs": [],
   "source": []
  }
 ],
 "metadata": {
  "kernelspec": {
   "display_name": "Python 3",
   "language": "python",
   "name": "python3"
  },
  "language_info": {
   "codemirror_mode": {
    "name": "ipython",
    "version": 3
   },
   "file_extension": ".py",
   "mimetype": "text/x-python",
   "name": "python",
   "nbconvert_exporter": "python",
   "pygments_lexer": "ipython3",
   "version": "3.7.1"
  }
 },
 "nbformat": 4,
 "nbformat_minor": 2
}
