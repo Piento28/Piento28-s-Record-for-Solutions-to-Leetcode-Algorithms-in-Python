{
 "cells": [
  {
   "cell_type": "markdown",
   "metadata": {},
   "source": [
    "### Some command lines:\n",
    "**chmod**\n",
    "\n",
    "**ls**\n",
    "\n",
    "**which**\n",
    "\n",
    "**—version**\n",
    "\n",
    "**gcc**\n",
    "\t-o option to specify the output file name\n",
    "\t-Wall: prints \"all\" Warning messages.\n",
    "\t-g: generates additional symbolic debuggging information for use with gdb debugger.\n",
    "\t-c: Compile into object file \"Hello.o\". By default, the object file has the same name as the source file with \n",
    "extension of \".o\" (there is no need to specify -o option). No linking with other object files or libraries.'''"
   ]
  },
  {
   "cell_type": "code",
   "execution_count": null,
   "metadata": {},
   "outputs": [],
   "source": []
  }
 ],
 "metadata": {
  "kernelspec": {
   "display_name": "Python 3",
   "language": "python",
   "name": "python3"
  },
  "language_info": {
   "codemirror_mode": {
    "name": "ipython",
    "version": 3
   },
   "file_extension": ".py",
   "mimetype": "text/x-python",
   "name": "python",
   "nbconvert_exporter": "python",
   "pygments_lexer": "ipython3",
   "version": "3.7.1"
  }
 },
 "nbformat": 4,
 "nbformat_minor": 2
}
