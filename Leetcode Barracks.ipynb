{
 "cells": [
  {
   "cell_type": "code",
   "execution_count": 105,
   "metadata": {},
   "outputs": [],
   "source": [
    "import time\n",
    "import random\n",
    "import heapq"
   ]
  },
  {
   "cell_type": "code",
   "execution_count": 106,
   "metadata": {},
   "outputs": [],
   "source": [
    "class Solution:\n",
    "    saved = []\n",
    "    def Swap(self,a,b):\n",
    "        return b,a\n",
    "    def MergeSort_Operation(self,la,lb):\n",
    "        saved=[0]*(len(la)+len(lb))\n",
    "        i=0;j=0;k=0;\n",
    "        while i<len(la) and j<len(lb):\n",
    "            if la[i]<=lb[j]:\n",
    "                saved[k] = la[i]\n",
    "                k+=1\n",
    "                i+=1\n",
    "            else:\n",
    "                saved[k] = lb[j]\n",
    "                k+=1\n",
    "                j+=1\n",
    "        while i<len(la):\n",
    "            saved[k]=la[i]\n",
    "            k+=1\n",
    "            i+=1\n",
    "        while j<len(lb):\n",
    "            saved[k]=lb[j]\n",
    "            k+=1\n",
    "            j+=1\n",
    "        return saved\n",
    "\n",
    "    def InsertionSort(self,lis):\n",
    "        for i in range(len(lis)):\n",
    "            for j in range(i-1,-1,-1):\n",
    "                if lis[j+1]<lis[j]:\n",
    "                    lis[j+1],lis[j]=self.Swap(lis[j+1],lis[j])\n",
    "        return lis\n",
    "    def BubbleSort(self,lis):\n",
    "        for i in range(len(lis)-1):\n",
    "            for j in range(i+1,len(lis)):\n",
    "                if lis[i]>lis[j]:\n",
    "                    lis[i],lis[j]=self.Swap(lis[i],lis[j])\n",
    "        return lis\n",
    "    def MergeSort(self,lis):\n",
    "        if len(lis)==1:\n",
    "            return lis\n",
    "        else:\n",
    "            return self.MergeSort_Operation(self.MergeSort(lis[:len(lis)//2]),self.MergeSort(lis[len(lis)//2:]))\n",
    "    \n",
    "#     def QuickSort(self,lis):\n",
    "#         if len(lis)<=1:\n",
    "#             return None\n",
    "#         mid=random.randint(0,len(lis)-1)\n",
    "#         i=0;j=len(lis)-1\n",
    "#         print(mid,i,j)\n",
    "#         while i<j:\n",
    "#             print(mid,i,j)\n",
    "#             while i<mid:\n",
    "#                 print(mid,i,j)\n",
    "#                 if lis[i]>lis[mid]:\n",
    "#                     lis[i],lis[mid]=self.Swap(lis[i],lis[mid])\n",
    "#                     mid=i\n",
    "#                 i+=1\n",
    "#             print('haha')\n",
    "#             while j>mid:\n",
    "#                 print(mid,i,j)\n",
    "#                 if lis[j]<lis[mid]:\n",
    "#                     lis[j],lis[mid]=self.Swap(lis[j],lis[mid])\n",
    "#                     mid=j\n",
    "#                 j-=1\n",
    "#         print(\"hehe\")\n",
    "#         self.QuickSort(lis[:mid])\n",
    "#         self.QuickSort(lis[mid:])\n",
    "#         return lis\n",
    "    def QuickSort(self,lis,start,end):\n",
    "        if end-start<=0:\n",
    "            return None\n",
    "        mid=random.randint(start,end)\n",
    "        i=start;j=end\n",
    "        while i<j:\n",
    "            while i<mid:\n",
    "                if lis[i]>lis[mid]:\n",
    "                    lis[i],lis[mid]=self.Swap(lis[i],lis[mid])\n",
    "                    mid=i\n",
    "                i+=1\n",
    "            while j>mid:\n",
    "                if lis[j]<lis[mid]:\n",
    "                    lis[j],lis[mid]=self.Swap(lis[j],lis[mid])\n",
    "                    mid=j\n",
    "                j-=1\n",
    "        self.QuickSort(lis,start,mid-1)\n",
    "        self.QuickSort(lis,mid+1,end)\n",
    "        return lis\n",
    "        "
   ]
  },
  {
   "cell_type": "code",
   "execution_count": 107,
   "metadata": {},
   "outputs": [
    {
     "name": "stdout",
     "output_type": "stream",
     "text": [
      "[-6, -1, 0, 1, 2, 3, 4, 5, 6, 7, 14]\n",
      "[-6, -1, 0, 1, 2, 3, 4, 5, 6, 7, 14]\n",
      "[-6, -1, 0, 1, 2, 3, 4, 5, 6, 7, 14]\n",
      "[-6, -1, 0, 1, 2, 3, 4, 5, 6, 7, 14]\n"
     ]
    }
   ],
   "source": [
    "test = Solution()\n",
    "a = [3,4,5,6,1,2,7,0,-1,14,-6]\n",
    "print(test.BubbleSort(a))\n",
    "a = [3,4,5,6,1,2,7,0,-1,14,-6]\n",
    "print(test.InsertionSort(a))\n",
    "a = [3,4,5,6,1,2,7,0,-1,14,-6]\n",
    "print(test.MergeSort(a))\n",
    "a = [3,4,5,6,1,2,7,0,-1,14,-6]\n",
    "print(test.QuickSort(a,0,len(a)-1))"
   ]
  },
  {
   "cell_type": "code",
   "execution_count": 111,
   "metadata": {},
   "outputs": [
    {
     "ename": "KeyboardInterrupt",
     "evalue": "",
     "output_type": "error",
     "traceback": [
      "\u001b[0;31m---------------------------------------------------------------------------\u001b[0m",
      "\u001b[0;31mKeyboardInterrupt\u001b[0m                         Traceback (most recent call last)",
      "\u001b[0;32m<ipython-input-111-028bce27b0af>\u001b[0m in \u001b[0;36m<module>\u001b[0;34m\u001b[0m\n\u001b[1;32m      7\u001b[0m \u001b[0;31m# print(\"Waiting sorted lists: \",a)\u001b[0m\u001b[0;34m\u001b[0m\u001b[0;34m\u001b[0m\u001b[0;34m\u001b[0m\u001b[0m\n\u001b[1;32m      8\u001b[0m \u001b[0mtime_start\u001b[0m \u001b[0;34m=\u001b[0m \u001b[0mtime\u001b[0m\u001b[0;34m.\u001b[0m\u001b[0mprocess_time\u001b[0m\u001b[0;34m(\u001b[0m\u001b[0;34m)\u001b[0m\u001b[0;34m\u001b[0m\u001b[0;34m\u001b[0m\u001b[0m\n\u001b[0;32m----> 9\u001b[0;31m \u001b[0mbubble\u001b[0m \u001b[0;34m=\u001b[0m \u001b[0mtest\u001b[0m\u001b[0;34m.\u001b[0m\u001b[0mBubbleSort\u001b[0m\u001b[0;34m(\u001b[0m\u001b[0ma\u001b[0m\u001b[0;34m)\u001b[0m\u001b[0;34m\u001b[0m\u001b[0;34m\u001b[0m\u001b[0m\n\u001b[0m\u001b[1;32m     10\u001b[0m \u001b[0mtime_end\u001b[0m \u001b[0;34m=\u001b[0m \u001b[0mtime\u001b[0m\u001b[0;34m.\u001b[0m\u001b[0mprocess_time\u001b[0m\u001b[0;34m(\u001b[0m\u001b[0;34m)\u001b[0m\u001b[0;34m\u001b[0m\u001b[0;34m\u001b[0m\u001b[0m\n\u001b[1;32m     11\u001b[0m \u001b[0mprint\u001b[0m\u001b[0;34m(\u001b[0m\u001b[0;34m\"Bubble Sort used time:%fs\"\u001b[0m\u001b[0;34m%\u001b[0m\u001b[0;34m(\u001b[0m\u001b[0mtime_end\u001b[0m\u001b[0;34m-\u001b[0m\u001b[0mtime_start\u001b[0m\u001b[0;34m)\u001b[0m\u001b[0;34m)\u001b[0m\u001b[0;34m\u001b[0m\u001b[0;34m\u001b[0m\u001b[0m\n",
      "\u001b[0;32m<ipython-input-106-32a153d4a001>\u001b[0m in \u001b[0;36mBubbleSort\u001b[0;34m(self, lis)\u001b[0m\n\u001b[1;32m     34\u001b[0m         \u001b[0;32mfor\u001b[0m \u001b[0mi\u001b[0m \u001b[0;32min\u001b[0m \u001b[0mrange\u001b[0m\u001b[0;34m(\u001b[0m\u001b[0mlen\u001b[0m\u001b[0;34m(\u001b[0m\u001b[0mlis\u001b[0m\u001b[0;34m)\u001b[0m\u001b[0;34m-\u001b[0m\u001b[0;36m1\u001b[0m\u001b[0;34m)\u001b[0m\u001b[0;34m:\u001b[0m\u001b[0;34m\u001b[0m\u001b[0;34m\u001b[0m\u001b[0m\n\u001b[1;32m     35\u001b[0m             \u001b[0;32mfor\u001b[0m \u001b[0mj\u001b[0m \u001b[0;32min\u001b[0m \u001b[0mrange\u001b[0m\u001b[0;34m(\u001b[0m\u001b[0mi\u001b[0m\u001b[0;34m+\u001b[0m\u001b[0;36m1\u001b[0m\u001b[0;34m,\u001b[0m\u001b[0mlen\u001b[0m\u001b[0;34m(\u001b[0m\u001b[0mlis\u001b[0m\u001b[0;34m)\u001b[0m\u001b[0;34m)\u001b[0m\u001b[0;34m:\u001b[0m\u001b[0;34m\u001b[0m\u001b[0;34m\u001b[0m\u001b[0m\n\u001b[0;32m---> 36\u001b[0;31m                 \u001b[0;32mif\u001b[0m \u001b[0mlis\u001b[0m\u001b[0;34m[\u001b[0m\u001b[0mi\u001b[0m\u001b[0;34m]\u001b[0m\u001b[0;34m>\u001b[0m\u001b[0mlis\u001b[0m\u001b[0;34m[\u001b[0m\u001b[0mj\u001b[0m\u001b[0;34m]\u001b[0m\u001b[0;34m:\u001b[0m\u001b[0;34m\u001b[0m\u001b[0;34m\u001b[0m\u001b[0m\n\u001b[0m\u001b[1;32m     37\u001b[0m                     \u001b[0mlis\u001b[0m\u001b[0;34m[\u001b[0m\u001b[0mi\u001b[0m\u001b[0;34m]\u001b[0m\u001b[0;34m,\u001b[0m\u001b[0mlis\u001b[0m\u001b[0;34m[\u001b[0m\u001b[0mj\u001b[0m\u001b[0;34m]\u001b[0m\u001b[0;34m=\u001b[0m\u001b[0mself\u001b[0m\u001b[0;34m.\u001b[0m\u001b[0mSwap\u001b[0m\u001b[0;34m(\u001b[0m\u001b[0mlis\u001b[0m\u001b[0;34m[\u001b[0m\u001b[0mi\u001b[0m\u001b[0;34m]\u001b[0m\u001b[0;34m,\u001b[0m\u001b[0mlis\u001b[0m\u001b[0;34m[\u001b[0m\u001b[0mj\u001b[0m\u001b[0;34m]\u001b[0m\u001b[0;34m)\u001b[0m\u001b[0;34m\u001b[0m\u001b[0;34m\u001b[0m\u001b[0m\n\u001b[1;32m     38\u001b[0m         \u001b[0;32mreturn\u001b[0m \u001b[0mlis\u001b[0m\u001b[0;34m\u001b[0m\u001b[0;34m\u001b[0m\u001b[0m\n",
      "\u001b[0;31mKeyboardInterrupt\u001b[0m: "
     ]
    }
   ],
   "source": [
    "size = 10000\n",
    "low_bound = -1000\n",
    "up_bound = 1000\n",
    "a=[0]*size\n",
    "for i in range(size):\n",
    "    a[i]=random.randint(low_bound,up_bound)\n",
    "# print(\"Waiting sorted lists: \",a)\n",
    "time_start = time.process_time()\n",
    "bubble = test.BubbleSort(a)\n",
    "time_end = time.process_time()\n",
    "print(\"Bubble Sort used time:%fs\"%(time_end-time_start))\n",
    "# print(bubble)\n",
    "\n",
    "time_start = time.process_time()\n",
    "# insertion = test.InsertionSort(a)\n",
    "time_end = time.process_time()\n",
    "print(\"Insertion Sort used time:%fs\"%(time_end-time_start))\n",
    "# print(insertion)\n",
    "\n",
    "time_start = time.process_time()\n",
    "merge = test.MergeSort(a)\n",
    "time_end = time.process_time()\n",
    "print(\"Merge Sort used time:%fs\"%(time_end-time_start))\n",
    "# print(merge)\n",
    "\n",
    "time_start = time.process_time()\n",
    "merge = test.QuickSort(a,0,len(a)-1)\n",
    "time_end = time.process_time()\n",
    "print(\"Quick Sort used time:%fs\"%(time_end-time_start))\n",
    "# print(merge)"
   ]
  },
  {
   "cell_type": "code",
   "execution_count": null,
   "metadata": {},
   "outputs": [],
   "source": []
  }
 ],
 "metadata": {
  "kernelspec": {
   "display_name": "Python 3",
   "language": "python",
   "name": "python3"
  },
  "language_info": {
   "codemirror_mode": {
    "name": "ipython",
    "version": 3
   },
   "file_extension": ".py",
   "mimetype": "text/x-python",
   "name": "python",
   "nbconvert_exporter": "python",
   "pygments_lexer": "ipython3",
   "version": "3.7.1"
  }
 },
 "nbformat": 4,
 "nbformat_minor": 2
}
