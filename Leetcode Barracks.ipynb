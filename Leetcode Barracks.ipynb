{
 "cells": [
  {
   "cell_type": "code",
   "execution_count": 12,
   "metadata": {},
   "outputs": [],
   "source": [
    "class Solution:\n",
    "    def twoSum(self, nums, target):\n",
    "        def SortKey(a):\n",
    "            return a[0]\n",
    "        nums = [[value,index] for index,value in enumerate(nums)]\n",
    "        index_begin, index_end = 0,len(nums)-1\n",
    "        nums.sort(key=SortKey)\n",
    "        while (index_begin<index_end):\n",
    "            tmp = nums[index_begin][0]+nums[index_end][0]\n",
    "            if tmp == target:\n",
    "                break;\n",
    "            elif tmp<target:\n",
    "                index_begin+=1\n",
    "            else:\n",
    "                index_end-=1\n",
    "        return [nums[index_begin][1],nums[index_end][1]]\n",
    "\n",
    "class Solution:\n",
    "    def twoSum(self, nums, target):\n",
    "        bucket={}\n",
    "        for i,v in enumerate(nums):\n",
    "            tmp=target-v\n",
    "            if bucket.get(tmp)!=None:\n",
    "                return [bucket.get(tmp),i]\n",
    "            bucket[v]=i"
   ]
  },
  {
   "cell_type": "code",
   "execution_count": 13,
   "metadata": {},
   "outputs": [
    {
     "name": "stdout",
     "output_type": "stream",
     "text": [
      "[0, 1]\n",
      "[1, 2]\n"
     ]
    }
   ],
   "source": [
    "test = Solution()\n",
    "print(test.twoSum([2, 7, 11, 15],9))\n",
    "print(test.twoSum([3,2,4],6))"
   ]
  },
  {
   "cell_type": "code",
   "execution_count": null,
   "metadata": {},
   "outputs": [],
   "source": []
  }
 ],
 "metadata": {
  "kernelspec": {
   "display_name": "Python 3",
   "language": "python",
   "name": "python3"
  },
  "language_info": {
   "codemirror_mode": {
    "name": "ipython",
    "version": 3
   },
   "file_extension": ".py",
   "mimetype": "text/x-python",
   "name": "python",
   "nbconvert_exporter": "python",
   "pygments_lexer": "ipython3",
   "version": "3.7.1"
  }
 },
 "nbformat": 4,
 "nbformat_minor": 2
}
