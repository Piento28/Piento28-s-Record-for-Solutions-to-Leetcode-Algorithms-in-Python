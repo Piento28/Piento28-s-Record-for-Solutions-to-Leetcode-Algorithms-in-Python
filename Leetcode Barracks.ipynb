{
 "cells": [
  {
   "cell_type": "code",
   "execution_count": 102,
   "metadata": {},
   "outputs": [],
   "source": [
    "# Definition for singly-linked list.\n",
    "class ListNode:\n",
    "    def __init__(self, x):\n",
    "        self.val = x\n",
    "        self.next = None\n",
    "\n",
    "class Solution:\n",
    "    def buildLink(self, lis):\n",
    "        if len(lis)==0:\n",
    "            return None\n",
    "        head = ListNode(lis[0])\n",
    "        target = head\n",
    "        for i in range(1,len(lis)):\n",
    "            newnode = ListNode(lis[i])\n",
    "            target.next = newnode\n",
    "            target = target.next\n",
    "        return head\n",
    "    def reverseKGroup(self, head: ListNode, k: int) -> ListNode:\n",
    "        list_len=0\n",
    "        tmp=head\n",
    "        while tmp:\n",
    "            list_len+=1\n",
    "            tmp=tmp.next\n",
    "        if list_len<=1 or k==1 or k>list_len:\n",
    "            return head\n",
    "        pre_head=pre_tail=None\n",
    "        now_head=now_tail=None\n",
    "        all_head=None\n",
    "        i=0\n",
    "        first=None\n",
    "        second=head\n",
    "        third=head.next\n",
    "        while i<(list_len-list_len%k):\n",
    "            now_head=second\n",
    "            for j in range(k-1):\n",
    "                second.next=first\n",
    "                first=second\n",
    "                second=third\n",
    "                third=third.next\n",
    "            second.next=first\n",
    "            now_tail=second\n",
    "            if i==0:\n",
    "                all_head=now_tail\n",
    "            else:\n",
    "#                 print(pre_head.val)\n",
    "                pre_head.next=now_tail\n",
    "            i+=k-1\n",
    "            if i+1<(list_len-list_len%k):\n",
    "                i+=1\n",
    "#                 print(i)\n",
    "                first=None\n",
    "                second=third\n",
    "                third=third.next\n",
    "                pre_head=now_head\n",
    "                pre_tail=now_tail\n",
    "            else:\n",
    "                break\n",
    "        if third==None:\n",
    "            return all_head\n",
    "        else:\n",
    "            now_head.next=third\n",
    "            return all_head"
   ]
  },
  {
   "cell_type": "code",
   "execution_count": 103,
   "metadata": {},
   "outputs": [
    {
     "name": "stdout",
     "output_type": "stream",
     "text": [
      "1,2,"
     ]
    }
   ],
   "source": [
    "test = Solution()\n",
    "# print(test.buildLink([1,2,3,4,5]))\n",
    "answer = test.reverseKGroup(test.buildLink([1,2,3,4,5]),3)\n",
    "answer = test.reverseKGroup(test.buildLink([1,2]),3)\n",
    "\n",
    "\n",
    "while answer:\n",
    "    print(answer.val,end=\",\")\n",
    "    answer=answer.next"
   ]
  },
  {
   "cell_type": "code",
   "execution_count": null,
   "metadata": {},
   "outputs": [],
   "source": []
  }
 ],
 "metadata": {
  "kernelspec": {
   "display_name": "Python 3",
   "language": "python",
   "name": "python3"
  },
  "language_info": {
   "codemirror_mode": {
    "name": "ipython",
    "version": 3
   },
   "file_extension": ".py",
   "mimetype": "text/x-python",
   "name": "python",
   "nbconvert_exporter": "python",
   "pygments_lexer": "ipython3",
   "version": "3.7.1"
  }
 },
 "nbformat": 4,
 "nbformat_minor": 2
}
