{
 "cells": [
  {
   "cell_type": "code",
   "execution_count": 15,
   "metadata": {},
   "outputs": [],
   "source": [
    "class Node:\n",
    "    def __init__(self,number):\n",
    "        self.value = number\n",
    "        self.lc = None\n",
    "        self.rc = None\n",
    "        \n",
    "class Tree:\n",
    "    lis = []\n",
    "    \n",
    "    def __init__(self):\n",
    "        self.root = None\n",
    "    \n",
    "    def add(self,number):\n",
    "        \n",
    "        node = Node(number)\n",
    "        \n",
    "        if self.root == None:\n",
    "            self.root = node\n",
    "            self.lis.append(self.root)\n",
    "        else:\n",
    "            target_node = self.lis[0]\n",
    "            if target_node.lc==None:\n",
    "                target_node.lc = node\n",
    "                self.lis.append(target_node.lc)\n",
    "            else:\n",
    "                target_node.rc = node\n",
    "                self.lis.append(target_node.rc)\n",
    "                del(self.lis[0])"
   ]
  },
  {
   "cell_type": "code",
   "execution_count": 16,
   "metadata": {},
   "outputs": [],
   "source": [
    "tree = Tree()\n",
    "for x in range(10):\n",
    "    tree.add(x)"
   ]
  },
  {
   "cell_type": "code",
   "execution_count": 34,
   "metadata": {},
   "outputs": [],
   "source": [
    "def preorder(node):\n",
    "    if node==None:\n",
    "        return None\n",
    "    print(node.value)\n",
    "    preorder(node.lc)\n",
    "    preorder(node.rc)\n",
    "def inorder(node):\n",
    "    if node==None:\n",
    "        return None\n",
    "    inorder(node.lc)\n",
    "    print(node.value)\n",
    "    inorder(node.rc)\n",
    "def postorder(node):\n",
    "    if node==None:\n",
    "        return None\n",
    "    postorder(node.lc)\n",
    "    postorder(node.rc)\n",
    "    print(node.value)\n",
    "# Preorder is simple, Inorder is hard, Postorder you need another mark number or an last_pop sentry variable.\n",
    "def preorder_no_recursion(node):\n",
    "    stack = []\n",
    "    stack.append(node)\n",
    "    while stack:\n",
    "        target = stack.pop(-1)\n",
    "        print(target.value)\n",
    "        if target.rc!=None:\n",
    "            stack.append(target.rc)\n",
    "        if target.lc!=None:\n",
    "            stack.append(target.lc)\n",
    "def inorder_no_recursion(node):\n",
    "    stack = []\n",
    "    stack.append(node)\n",
    "    while stack:\n",
    "        target = stack[-1]\n",
    "        while target.lc!=None:\n",
    "            target = target.lc\n",
    "            stack.append(target)\n",
    "        target = stack.pop(-1)\n",
    "        print(target.value)\n",
    "        while target.rc==None and stack:\n",
    "            target = stack.pop(-1)\n",
    "            print(target.value)\n",
    "        if target.rc:\n",
    "            stack.append(target.rc)\n",
    "def postorder_no_recursion(node):\n",
    "    return None"
   ]
  },
  {
   "cell_type": "code",
   "execution_count": 23,
   "metadata": {},
   "outputs": [],
   "source": [
    "# Definition for a binary tree node.\n",
    "# class TreeNode:\n",
    "#     def __init__(self, x):\n",
    "#         self.val = x\n",
    "#         self.left = None\n",
    "#         self.right = None\n",
    "\n",
    "class Solution:\n",
    "    def getDepth(node):\n",
    "        if node==None:\n",
    "            return 0\n",
    "        return max(self.getDepth(node.left)+1,self.getDepth(node.right)+1)\n",
    "        \n",
    "    def isBalanced(self, root: TreeNode) -> bool:\n",
    "        if root==None:\n",
    "            return True;\n",
    "        if abs(self.getDepth(root.left)-self.getDepth(root.right))>1:\n",
    "            return False\n",
    "        elif (self.isBalanced(root.left) and self.isBalanced(root.right)):\n",
    "            return True\n",
    "        else:\n",
    "            return False"
   ]
  },
  {
   "cell_type": "code",
   "execution_count": 25,
   "metadata": {},
   "outputs": [
    {
     "name": "stdout",
     "output_type": "stream",
     "text": [
      "[7, 0, 8]\n",
      "[1, 1, 0, 2]\n"
     ]
    }
   ],
   "source": [
    "test = Solution()\n",
    "print(test.addTwoNumbers([2,4,3],[5,6,4]))\n",
    "print(test.addTwoNumbers([1,1,1],[0,0,9,1]))"
   ]
  },
  {
   "cell_type": "code",
   "execution_count": null,
   "metadata": {},
   "outputs": [],
   "source": []
  }
 ],
 "metadata": {
  "kernelspec": {
   "display_name": "Python 3",
   "language": "python",
   "name": "python3"
  },
  "language_info": {
   "codemirror_mode": {
    "name": "ipython",
    "version": 3
   },
   "file_extension": ".py",
   "mimetype": "text/x-python",
   "name": "python",
   "nbconvert_exporter": "python",
   "pygments_lexer": "ipython3",
   "version": "3.7.1"
  }
 },
 "nbformat": 4,
 "nbformat_minor": 2
}
