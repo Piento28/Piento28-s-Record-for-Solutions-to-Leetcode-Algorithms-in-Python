{
 "cells": [
  {
   "cell_type": "code",
   "execution_count": 76,
   "metadata": {},
   "outputs": [],
   "source": [
    "# KMP Version, but slower....\n",
    "class Solution:\n",
    "    def get_next(self,a):\n",
    "        k=-1\n",
    "        i=0\n",
    "        link=[-1]*(len(a)+1)\n",
    "        while i<len(a):\n",
    "            if (k==-1 or a[i]==a[k]):\n",
    "                i+=1\n",
    "                k+=1\n",
    "# out in index problem, need fiexed optimisation\n",
    "#                 if a[i]==a[k]:\n",
    "#                     link[i]=link[k]\n",
    "#                 else:\n",
    "#                     link[i]=k\n",
    "                link[i]=k\n",
    "            else:\n",
    "                k=link[k]\n",
    "        return link\n",
    "    def strStr(self, haystack: str, needle: str) -> int:\n",
    "        if len(needle)==0:\n",
    "            return 0\n",
    "        link = self.get_next(list(needle))\n",
    "        i=0;j=0;\n",
    "        while i<len(haystack):\n",
    "            while i<len(haystack) and haystack[i]==needle[j]:\n",
    "                i+=1\n",
    "                j+=1\n",
    "                if j==len(needle):\n",
    "                    return i-len(needle)\n",
    "            if link[j]==-1:\n",
    "                i+=1\n",
    "                j=0\n",
    "            else:\n",
    "                j=link[j]\n",
    "        return -1\n",
    "# # Normal version\n",
    "# class Solution:\n",
    "#     def strStr(self, haystack: str, needle: str) -> int:\n",
    "#         if len(needle)==0:\n",
    "#             return 0\n",
    "#         else:\n",
    "#             l=len(needle)\n",
    "#             for i in range(len(haystack)):\n",
    "#                 if(haystack[i:i+l]==needle):\n",
    "#                     return i\n",
    "#         return -1"
   ]
  },
  {
   "cell_type": "code",
   "execution_count": 77,
   "metadata": {},
   "outputs": [
    {
     "name": "stdout",
     "output_type": "stream",
     "text": [
      "5\n"
     ]
    }
   ],
   "source": [
    "test = Solution()\n",
    "print(test.strStr(\"ABACAABAB\",\"ABAB\"))"
   ]
  },
  {
   "cell_type": "code",
   "execution_count": null,
   "metadata": {},
   "outputs": [],
   "source": []
  }
 ],
 "metadata": {
  "kernelspec": {
   "display_name": "Python 3",
   "language": "python",
   "name": "python3"
  },
  "language_info": {
   "codemirror_mode": {
    "name": "ipython",
    "version": 3
   },
   "file_extension": ".py",
   "mimetype": "text/x-python",
   "name": "python",
   "nbconvert_exporter": "python",
   "pygments_lexer": "ipython3",
   "version": "3.7.1"
  }
 },
 "nbformat": 4,
 "nbformat_minor": 2
}
